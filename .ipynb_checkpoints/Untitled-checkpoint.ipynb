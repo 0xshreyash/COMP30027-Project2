{
 "cells": [
  {
   "cell_type": "code",
   "execution_count": null,
   "metadata": {
    "collapsed": false,
    "deletable": true,
    "editable": true
   },
   "outputs": [],
   "source": [
    "import json\n",
    "from collections import defaultdict\n",
    "from pandas import DataFrame\n",
    "from sklearn.feature_extraction.text import CountVectorizer\n",
    "import numpy as np\n",
    "from numpy.random import permutation\n",
    "\n",
    "def load_json(content):\n",
    "    json_data = []\n",
    "\n",
    "    for line in content:\n",
    "        json_data.append(json.loads(line))\n",
    "\n",
    "    return json_data\n",
    "\n",
    "def get_training_set(training_file, n):\n",
    "    with open(training_file) as file:\n",
    "        content = file.readlines()\n",
    "    json_data = load_json(content)\n",
    "    # create_ngrams(json_data, n)\n",
    "    data_frame = build_dataframe(json_data)\n",
    "    print(data_frame)\n",
    "\n",
    "def build_dataframe(json_data):\n",
    "    rows = []\n",
    "    index = []\n",
    "    for obj in json_data:\n",
    "        rows.append({'text' : obj['text'], 'class' : obj['lang']})\n",
    "        index.append(obj['src'])\n",
    "    data_frame = DataFrame(rows, index=index)\n",
    "    # print(index)\n",
    "    return data_frame\n",
    "\n",
    "\n",
    "\n",
    "def create_dictionary(json_data):\n",
    "    language_dict = defaultdict(list)\n",
    "    for obj in json_data:\n",
    "        language_dict[obj['lang']].append(obj['text'])\n",
    "    return language_dict\n",
    "\n",
    "def create_ngrams(json_data, n):\n",
    "    language_dict = create_dictionary(json_data)\n",
    "    input_languages = []\n",
    "    # Store the languages detected.\n",
    "    for lang in language_dict:\n",
    "        input_languages.append(lang)\n",
    "\n",
    "get_training_set(\"train.json\", 3)\n",
    "\n",
    "\n"
   ]
  },
  {
   "cell_type": "code",
   "execution_count": null,
   "metadata": {
    "collapsed": true,
    "deletable": true,
    "editable": true
   },
   "outputs": [],
   "source": []
  },
  {
   "cell_type": "code",
   "execution_count": null,
   "metadata": {
    "collapsed": true
   },
   "outputs": [],
   "source": []
  },
  {
   "cell_type": "code",
   "execution_count": null,
   "metadata": {
    "collapsed": true
   },
   "outputs": [],
   "source": []
  }
 ],
 "metadata": {
  "kernelspec": {
   "display_name": "Python 3",
   "language": "python",
   "name": "python3"
  },
  "language_info": {
   "codemirror_mode": {
    "name": "ipython",
    "version": 3
   },
   "file_extension": ".py",
   "mimetype": "text/x-python",
   "name": "python",
   "nbconvert_exporter": "python",
   "pygments_lexer": "ipython3",
   "version": "3.5.3"
  }
 },
 "nbformat": 4,
 "nbformat_minor": 2
}
